{
  "nbformat": 4,
  "nbformat_minor": 0,
  "metadata": {
    "accelerator": "GPU",
    "colab": {
      "name": "HOG_SVM_SIGN(2).ipynb",
      "provenance": [],
      "collapsed_sections": [],
      "mount_file_id": "1sCbAsqrtFGWUWV8eQ-TAvyvdo4N9gBJt",
      "authorship_tag": "ABX9TyN61ULWWblKQBoTnr1dP7WL",
      "include_colab_link": true
    },
    "kernelspec": {
      "display_name": "Python 3",
      "name": "python3"
    }
  },
  "cells": [
    {
      "cell_type": "markdown",
      "metadata": {
        "id": "view-in-github",
        "colab_type": "text"
      },
      "source": [
        "<a href=\"https://colab.research.google.com/github/shamim237/Bangla-Sign-digit-recognition/blob/main/HOG_SVM_SIGN_digit.ipynb\" target=\"_parent\"><img src=\"https://colab.research.google.com/assets/colab-badge.svg\" alt=\"Open In Colab\"/></a>"
      ]
    },
    {
      "cell_type": "code",
      "metadata": {
        "id": "B_DaJJZDmmiK"
      },
      "source": [
        "import os \r\n",
        "import numpy as np\r\n",
        "import matplotlib.pyplot as plt\r\n",
        "import cv2\r\n",
        "import pickle\r\n",
        "from skimage.feature import hog\r\n",
        "import random\r\n",
        "from sklearn.model_selection import train_test_split\r\n",
        "from sklearn.svm import SVC\r\n",
        "from sklearn.metrics import accuracy_score\r\n",
        "from sklearn.metrics import f1_score\r\n",
        "from sklearn.metrics import confusion_matrix"
      ],
      "execution_count": null,
      "outputs": []
    },
    {
      "cell_type": "code",
      "metadata": {
        "id": "Qzu11MTNm1Wt"
      },
      "source": [
        "#img_dir = '/content/drive/MyDrive/digit_dataset/'"
      ],
      "execution_count": null,
      "outputs": []
    },
    {
      "cell_type": "code",
      "metadata": {
        "id": "Se5h00Tbnou0"
      },
      "source": [
        "#categories = ['0', '1', '2', '3', '4', '5', '6', '7', '8', '9']"
      ],
      "execution_count": null,
      "outputs": []
    },
    {
      "cell_type": "code",
      "metadata": {
        "id": "ZbKJVIh0np3S"
      },
      "source": [
        "#data = []\r\n",
        "\r\n",
        "#for category in categories:\r\n",
        "  #path = os.path.join(img_dir, category)\r\n",
        "  #label = categories.index(category)\r\n",
        "\r\n",
        "  #for img in os.listdir(path):\r\n",
        "    ##img_data = cv2.imread(img_path)\r\n",
        "    #resized_img = cv2.resize(img_data, (128, 64))\r\n",
        "    #fd, hog_image = hog(resized_img, orientations=15, pixels_per_cell=(8, 8),                \t\r\n",
        "                          #cells_per_block=(2, 2), visualize=True, multichannel= True)\r\n",
        "    #image = np.array(hog_image).flatten()\r\n",
        "    #data.append([image, label])"
      ],
      "execution_count": null,
      "outputs": []
    },
    {
      "cell_type": "code",
      "metadata": {
        "id": "27m8_v1Mwnjw"
      },
      "source": [
        "#print(len(data))"
      ],
      "execution_count": null,
      "outputs": []
    },
    {
      "cell_type": "code",
      "metadata": {
        "id": "vJqaCkONwrdH"
      },
      "source": [
        "#pick_in = open('/content/drive/MyDrive/Colab Notebooks/data_hog_sign(2).pickle', 'wb')\r\n",
        "#pickle.dump(data, pick_in)\r\n",
        "#pick_in.close()\r\n"
      ],
      "execution_count": null,
      "outputs": []
    },
    {
      "cell_type": "code",
      "metadata": {
        "id": "XBH8KFGlw0jk"
      },
      "source": [
        "pick_in = open('/content/drive/MyDrive/Colab Notebooks/data_hog_sign(2).pickle', 'rb')\r\n",
        "data = pickle.load(pick_in)\r\n",
        "pick_in.close()"
      ],
      "execution_count": null,
      "outputs": []
    },
    {
      "cell_type": "code",
      "metadata": {
        "id": "XuV_WPVmxdvO"
      },
      "source": [
        "random.shuffle(data)\r\n",
        "features = []\r\n",
        "labels = []"
      ],
      "execution_count": null,
      "outputs": []
    },
    {
      "cell_type": "code",
      "metadata": {
        "id": "xWcwtAkExhlN"
      },
      "source": [
        "for feature,label in data:\r\n",
        "    features.append(feature)\r\n",
        "    labels.append(label)"
      ],
      "execution_count": null,
      "outputs": []
    },
    {
      "cell_type": "code",
      "metadata": {
        "id": "R_oX4yfPxjv2"
      },
      "source": [
        "x_train, x_test, y_train, y_test = train_test_split(features, labels, test_size=0.25, shuffle=True)"
      ],
      "execution_count": null,
      "outputs": []
    },
    {
      "cell_type": "code",
      "metadata": {
        "id": "IBPcQP0nxpOr"
      },
      "source": [
        "lin = SVC(kernel='linear', C=10).fit(x_train, y_train)\r\n"
      ],
      "execution_count": null,
      "outputs": []
    },
    {
      "cell_type": "code",
      "metadata": {
        "id": "6uUYpoHINoRg"
      },
      "source": [
        "poly = SVC(kernel='poly', degree=3, C=3).fit(x_train, y_train)"
      ],
      "execution_count": null,
      "outputs": []
    },
    {
      "cell_type": "code",
      "metadata": {
        "id": "e91hEq2TFOwi"
      },
      "source": [
        "\r\n",
        "rbf = SVC(kernel='rbf').fit(x_train, y_train)"
      ],
      "execution_count": null,
      "outputs": []
    },
    {
      "cell_type": "code",
      "metadata": {
        "id": "gZxji0w3NsOZ"
      },
      "source": [
        "poly_pred = poly.predict(x_test)\r\n"
      ],
      "execution_count": null,
      "outputs": []
    },
    {
      "cell_type": "code",
      "metadata": {
        "id": "sGSU2vfkNtec"
      },
      "source": [
        "lin_pred = lin.predict(x_test)"
      ],
      "execution_count": null,
      "outputs": []
    },
    {
      "cell_type": "code",
      "metadata": {
        "id": "vDDLeozlx2vg"
      },
      "source": [
        "\r\n",
        "rbf_pred = rbf.predict(x_test)"
      ],
      "execution_count": null,
      "outputs": []
    },
    {
      "cell_type": "code",
      "metadata": {
        "colab": {
          "base_uri": "https://localhost:8080/"
        },
        "id": "xQNUGi3Ix7iI",
        "outputId": "521e57ee-5934-4502-f8e2-b3d53327640c"
      },
      "source": [
        "poly_accuracy = accuracy_score(y_test, poly_pred)\r\n",
        "poly_f1 = f1_score(y_test, poly_pred, average='weighted')\r\n",
        "print('Accuracy (Polynomial Kernel): ', \"%.2f\" % (poly_accuracy*100))\r\n",
        "print('F1 (Polynomial Kernel): ', \"%.2f\" % (poly_f1*100))"
      ],
      "execution_count": null,
      "outputs": [
        {
          "output_type": "stream",
          "text": [
            "Accuracy (Polynomial Kernel):  96.29\n",
            "F1 (Polynomial Kernel):  96.28\n"
          ],
          "name": "stdout"
        }
      ]
    },
    {
      "cell_type": "code",
      "metadata": {
        "colab": {
          "base_uri": "https://localhost:8080/"
        },
        "id": "ZXRUCVTpx_lg",
        "outputId": "8d0bdea3-195c-41a7-87ac-763ee0438cbf"
      },
      "source": [
        "lin_accuracy = accuracy_score(y_test, lin_pred)\r\n",
        "lin_f1 = f1_score(y_test, lin_pred, average='weighted')\r\n",
        "print('Accuracy (Linear Kernel): ', \"%.2f\" % (lin_accuracy*100))\r\n",
        "print('F1 (Linear Kernel): ', \"%.2f\" % (lin_f1*100))"
      ],
      "execution_count": null,
      "outputs": [
        {
          "output_type": "stream",
          "text": [
            "Accuracy (Linear Kernel):  95.35\n",
            "F1 (Linear Kernel):  95.34\n"
          ],
          "name": "stdout"
        }
      ]
    },
    {
      "cell_type": "code",
      "metadata": {
        "colab": {
          "base_uri": "https://localhost:8080/"
        },
        "id": "tCAYUfF-yLTP",
        "outputId": "fdc8a043-3726-4c45-c480-1f79bb968672"
      },
      "source": [
        "rbf_accuracy = accuracy_score(y_test, rbf_pred)\r\n",
        "rbf_f1 = f1_score(y_test, rbf_pred, average='weighted')\r\n",
        "print('Accuracy (RBF Kernel): ', \"%.2f\" % (rbf_accuracy*100))\r\n",
        "print('F1 (RBF Kernel): ', \"%.2f\" % (rbf_f1*100))"
      ],
      "execution_count": null,
      "outputs": [
        {
          "output_type": "stream",
          "text": [
            "Accuracy (RBF Kernel):  96.20\n",
            "F1 (RBF Kernel):  96.20\n"
          ],
          "name": "stdout"
        }
      ]
    },
    {
      "cell_type": "code",
      "metadata": {
        "id": "lgkFG-iHwmDM"
      },
      "source": [
        ""
      ],
      "execution_count": null,
      "outputs": []
    },
    {
      "cell_type": "code",
      "metadata": {
        "id": "PtYKGgud0Va6",
        "colab": {
          "base_uri": "https://localhost:8080/"
        },
        "outputId": "6bcaf23d-34ee-476d-8164-158db1790f5e"
      },
      "source": [
        "cm = confusion_matrix(y_test, lin_pred) \r\n",
        "\r\n",
        "print(cm)"
      ],
      "execution_count": null,
      "outputs": [
        {
          "output_type": "stream",
          "text": [
            "[[202   0   0   0   0   0   1   0   0   1]\n",
            " [  0 223   6   0   0   2   0   1   3   0]\n",
            " [  0   3 203   6   2   2   0   0   3   0]\n",
            " [  0   3  10 176   8   0   0   0   5   0]\n",
            " [  0   4   4   2 213   1   0   0   2   0]\n",
            " [  0   0   0   0   4 211   0   0   2   0]\n",
            " [  0   0   0   0   0   0 211   0   0   0]\n",
            " [  2   0   2   0   0   1   1 195   4   0]\n",
            " [  0   4   0   2   2   2   0   4 213   0]\n",
            " [  0   0   0   0   0   0   0   0   0 185]]\n"
          ],
          "name": "stdout"
        }
      ]
    },
    {
      "cell_type": "code",
      "metadata": {
        "colab": {
          "base_uri": "https://localhost:8080/"
        },
        "id": "ihF9cRmon3bd",
        "outputId": "e74d29e4-b729-4064-b4b5-e12fdc5c63bb"
      },
      "source": [
        "cm = confusion_matrix(y_test, poly_pred) \r\n",
        "\r\n",
        "print(cm)"
      ],
      "execution_count": null,
      "outputs": [
        {
          "output_type": "stream",
          "text": [
            "[[203   0   0   0   0   0   0   1   0   0]\n",
            " [  0 231   0   0   0   2   0   0   2   0]\n",
            " [  0  13 204   2   0   0   0   0   0   0]\n",
            " [  0   5  20 173   2   0   0   0   2   0]\n",
            " [  0   5   0   9 210   0   0   0   2   0]\n",
            " [  0   0   0   0   1 216   0   0   0   0]\n",
            " [  0   0   0   0   0   0 211   0   0   0]\n",
            " [  0   0   0   0   0   0   0 205   0   0]\n",
            " [  0   2   2   0   2   2   0   2 217   0]\n",
            " [  0   3   0   0   0   0   0   0   0 182]]\n"
          ],
          "name": "stdout"
        }
      ]
    },
    {
      "cell_type": "code",
      "metadata": {
        "colab": {
          "base_uri": "https://localhost:8080/"
        },
        "id": "AYGetDQdwnM0",
        "outputId": "ee2450bd-e2aa-4029-9574-436145a76809"
      },
      "source": [
        "cm = confusion_matrix(y_test, rbf_pred) \r\n",
        "\r\n",
        "print(cm)"
      ],
      "execution_count": null,
      "outputs": [
        {
          "output_type": "stream",
          "text": [
            "[[203   0   0   0   0   0   0   1   0   0]\n",
            " [  0 232   1   0   0   2   0   0   0   0]\n",
            " [  0   3 209   4   2   0   0   0   1   0]\n",
            " [  0   4  16 178   4   0   0   0   0   0]\n",
            " [  0   0   2  13 211   0   0   0   0   0]\n",
            " [  0   0   0   0   0 215   0   0   2   0]\n",
            " [  0   0   0   0   0   0 211   0   0   0]\n",
            " [  0   3   1   0   0   0   0 199   2   0]\n",
            " [  0   1   1   1   0   2   0   6 216   0]\n",
            " [  3   5   0   0   1   0   0   0   0 176]]\n"
          ],
          "name": "stdout"
        }
      ]
    },
    {
      "cell_type": "code",
      "metadata": {
        "colab": {
          "base_uri": "https://localhost:8080/",
          "height": 285
        },
        "id": "HAyE4bZwyi-3",
        "outputId": "7b822098-a699-4335-8fed-6880d9d1e9f3"
      },
      "source": [
        "categories = ['0', '1', '2', '3', '4', '5', '6', '7', '8', '9']\r\n",
        "\r\n",
        "print('Prediction is: ', categories[rbf_pred[104]])\r\n",
        "\r\n",
        "my_pred = x_test[104].reshape(128, 64)\r\n",
        "plt.imshow(my_pred, cmap='binary_r')\r\n",
        "plt.show()"
      ],
      "execution_count": null,
      "outputs": [
        {
          "output_type": "stream",
          "text": [
            "Prediction is:  2\n"
          ],
          "name": "stdout"
        },
        {
          "output_type": "display_data",
          "data": {
            "image/png": "[encoded data removed]",
            "text/plain": [
              "<Figure size 432x288 with 1 Axes>"
            ]
          },
          "metadata": {
            "tags": [],
            "needs_background": "light"
          }
        }
      ]
    },
    {
      "cell_type": "code",
      "metadata": {
        "colab": {
          "base_uri": "https://localhost:8080/"
        },
        "id": "IHBpVjS-9Ymo",
        "outputId": "a375e9ef-ec41-4cac-c861-50a6bab3eb22"
      },
      "source": [
        "test_sample = x_test[6].reshape(1, 128*64)\r\n",
        "\r\n",
        "test_sample.shape"
      ],
      "execution_count": null,
      "outputs": [
        {
          "output_type": "execute_result",
          "data": {
            "text/plain": [
              "(1, 8192)"
            ]
          },
          "metadata": {
            "tags": []
          },
          "execution_count": 147
        }
      ]
    },
    {
      "cell_type": "code",
      "metadata": {
        "colab": {
          "base_uri": "https://localhost:8080/"
        },
        "id": "1bY2D46l7JBo",
        "outputId": "4384af05-b441-408f-c766-c50ca067a7d3"
      },
      "source": [
        "pred = poly.predict(test_sample)\r\n",
        "pred"
      ],
      "execution_count": null,
      "outputs": [
        {
          "output_type": "execute_result",
          "data": {
            "text/plain": [
              "array([2])"
            ]
          },
          "metadata": {
            "tags": []
          },
          "execution_count": 148
        }
      ]
    },
    {
      "cell_type": "code",
      "metadata": {
        "colab": {
          "base_uri": "https://localhost:8080/"
        },
        "id": "UH7r6DUy8YX4",
        "outputId": "156f613a-28ba-462c-c24b-9e64a1fa2621"
      },
      "source": [
        "y_test[6]"
      ],
      "execution_count": null,
      "outputs": [
        {
          "output_type": "execute_result",
          "data": {
            "text/plain": [
              "2"
            ]
          },
          "metadata": {
            "tags": []
          },
          "execution_count": 149
        }
      ]
    },
    {
      "cell_type": "code",
      "metadata": {
        "colab": {
          "base_uri": "https://localhost:8080/",
          "height": 235
        },
        "id": "qYXUq4pc-Wrf",
        "outputId": "8bb066db-73ac-4c39-8999-d0709d17958a"
      },
      "source": [
        "img_data = cv2.imread('/content/8.jpg', 0)\r\n",
        "\r\n",
        "ret,thresh1 = cv2.threshold(img_data,160,255,cv2.THRESH_BINARY)\r\n",
        "\r\n",
        "resized_img = cv2.resize(thresh1, (128, 64))\r\n",
        "fd, hog_image = hog(resized_img, orientations=9, pixels_per_cell=(8, 8),                \t\r\n",
        "                          cells_per_block=(2, 2), visualize=True, multichannel= False)\r\n",
        "image = np.array(hog_image).flatten()\r\n",
        "plt.imshow(hog_image)"
      ],
      "execution_count": null,
      "outputs": [
        {
          "output_type": "execute_result",
          "data": {
            "text/plain": [
              "<matplotlib.image.AxesImage at 0x7fd67b8ed150>"
            ]
          },
          "metadata": {
            "tags": []
          },
          "execution_count": 183
        },
        {
          "output_type": "display_data",
          "data": {
            "image/png": "[encoded data removed]",
            "text/plain": [
              "<Figure size 432x288 with 1 Axes>"
            ]
          },
          "metadata": {
            "tags": [],
            "needs_background": "light"
          }
        }
      ]
    },
    {
      "cell_type": "code",
      "metadata": {
        "colab": {
          "base_uri": "https://localhost:8080/"
        },
        "id": "D420RVTc-Wuc",
        "outputId": "b15c61dd-0074-4b47-b7c7-9fce2c0e1047"
      },
      "source": [
        "image.shape"
      ],
      "execution_count": null,
      "outputs": [
        {
          "output_type": "execute_result",
          "data": {
            "text/plain": [
              "(8192,)"
            ]
          },
          "metadata": {
            "tags": []
          },
          "execution_count": 141
        }
      ]
    },
    {
      "cell_type": "code",
      "metadata": {
        "colab": {
          "base_uri": "https://localhost:8080/"
        },
        "id": "Y89GQuVQ-Wyf",
        "outputId": "3164fb66-3cfd-4634-8d50-4fdd08c748d7"
      },
      "source": [
        "test_sample = image.reshape(1, 128*64)\r\n",
        "\r\n",
        "pred = rbf.predict(test_sample)\r\n",
        "pred"
      ],
      "execution_count": null,
      "outputs": [
        {
          "output_type": "execute_result",
          "data": {
            "text/plain": [
              "array([8])"
            ]
          },
          "metadata": {
            "tags": []
          },
          "execution_count": 184
        }
      ]
    }
  ]
}