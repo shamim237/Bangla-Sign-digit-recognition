{
  "nbformat": 4,
  "nbformat_minor": 0,
  "metadata": {
    "colab": {
      "name": "Bengali_Sign_digit.ipynb",
      "provenance": [],
      "collapsed_sections": [],
      "authorship_tag": "ABX9TyN+LGd826N6/2/wDpHxoBgF",
      "include_colab_link": true
    },
    "kernelspec": {
      "name": "python3",
      "display_name": "Python 3"
    },
    "accelerator": "GPU"
  },
  "cells": [
    {
      "cell_type": "markdown",
      "metadata": {
        "id": "view-in-github",
        "colab_type": "text"
      },
      "source": [
        "<a href=\"https://colab.research.google.com/github/shamim237/Bangla-Sign-digit-recognition/blob/main/Bengali_Sign_digit.ipynb\" target=\"_parent\"><img src=\"https://colab.research.google.com/assets/colab-badge.svg\" alt=\"Open In Colab\"/></a>"
      ]
    },
    {
      "cell_type": "code",
      "metadata": {
        "id": "I2gdCSqXcNLg"
      },
      "source": [
        "import random\r\n",
        "import tqdm\r\n",
        "import os\r\n",
        "import cv2\r\n",
        "from PIL import Image\r\n",
        "import torch\r\n",
        "import matplotlib.pyplot as plt\r\n",
        "import matplotlib.image as mpimg\r\n",
        "import numpy as np\r\n",
        "import tensorflow as tf\r\n",
        "from keras.models import Model, load_model, Sequential\r\n",
        "\r\n",
        "from tensorflow.keras.preprocessing import image\r\n",
        "from keras.models import Sequential\r\n",
        "from keras.layers import Input, Add, Dense,GlobalAvgPool2D, Concatenate, AvgPool2D, Dropout, ReLU, Activation, MaxPool2D, ZeroPadding2D, BatchNormalization, Flatten, Conv2D, GlobalAveragePooling2D, AveragePooling2D, MaxPooling2D, GlobalMaxPooling2D\r\n",
        "from tensorflow.keras.optimizers import RMSprop, Adam, SGD\r\n"
      ],
      "execution_count": 1,
      "outputs": []
    },
    {
      "cell_type": "code",
      "metadata": {
        "colab": {
          "base_uri": "https://localhost:8080/"
        },
        "id": "Y9GJK7U1cgRF",
        "outputId": "bcdb6fdc-580e-4793-e1a7-193a8e51f28f"
      },
      "source": [
        "from google.colab import drive \r\n",
        "drive.mount('/content/drive/')"
      ],
      "execution_count": 2,
      "outputs": [
        {
          "output_type": "stream",
          "text": [
            "Mounted at /content/drive/\n"
          ],
          "name": "stdout"
        }
      ]
    },
    {
      "cell_type": "code",
      "metadata": {
        "id": "Zodb5AVddWPQ"
      },
      "source": [
        "img_dir = '/content/drive/MyDrive/digit_dataset/'"
      ],
      "execution_count": 5,
      "outputs": []
    },
    {
      "cell_type": "code",
      "metadata": {
        "id": "1t_Swgi1dThw"
      },
      "source": [
        "size = 128\r\n",
        "dataset = []\r\n",
        "label = []"
      ],
      "execution_count": 6,
      "outputs": []
    },
    {
      "cell_type": "code",
      "metadata": {
        "id": "ysCKCVAtc2Ca"
      },
      "source": [
        "X_train = np.load('/content/drive/MyDrive/digit_dataset/X_train.npy')\r\n",
        "X_test = np.load('/content/drive/MyDrive/digit_dataset/X_test.npy')\r\n",
        "y_train = np.load('/content/drive/MyDrive/digit_dataset/y_train.npy')\r\n",
        "y_test = np.load('/content/drive/MyDrive/digit_dataset/y_test.npy')"
      ],
      "execution_count": 3,
      "outputs": []
    },
    {
      "cell_type": "code",
      "metadata": {
        "colab": {
          "base_uri": "https://localhost:8080/"
        },
        "id": "qrbaZGBAdF26",
        "outputId": "97662aa3-c308-4cd7-bbfa-b27997067b8f"
      },
      "source": [
        "model_d= tf.keras.applications.InceptionV3(weights=\"imagenet\", include_top=False,\r\n",
        "\tinput_tensor=Input(shape=(size, size, 3)))"
      ],
      "execution_count": 7,
      "outputs": [
        {
          "output_type": "stream",
          "text": [
            "Downloading data from https://storage.googleapis.com/tensorflow/keras-applications/inception_v3/inception_v3_weights_tf_dim_ordering_tf_kernels_notop.h5\n",
            "87916544/87910968 [==============================] - 1s 0us/step\n"
          ],
          "name": "stdout"
        }
      ]
    },
    {
      "cell_type": "code",
      "metadata": {
        "id": "VuGksudQdmvY"
      },
      "source": [
        "x= model_d.layers[-3].output\r\n",
        "#x= Conv2D(32, kernel_size=3)(x)\r\n",
        "x= GlobalAveragePooling2D()(x)\r\n",
        "x= BatchNormalization()(x)\r\n",
        "x= Dropout(0.3)(x)\r\n",
        "#x= MaxPooling2D(2)(x)\r\n",
        "x= Dense(1024,activation='relu')(x) \r\n",
        "x= Dense(512,activation='relu')(x) \r\n",
        "#x= BatchNormalization()(x)\r\n",
        "x= Dense(64,activation='relu')(x)\r\n",
        "\r\n",
        "predictions= Dense(10, activation = 'softmax')(x)\r\n",
        "model= Model(inputs= model_d.input, outputs= predictions)"
      ],
      "execution_count": 8,
      "outputs": []
    },
    {
      "cell_type": "code",
      "metadata": {
        "id": "PI3DMzqydgBA"
      },
      "source": [
        "for layer in model.layers[:-23]:\r\n",
        "    layer.trainable = False"
      ],
      "execution_count": 10,
      "outputs": []
    },
    {
      "cell_type": "code",
      "metadata": {
        "id": "3DPuMFP3dslp"
      },
      "source": [
        "model.compile(optimizer= Adam(lr= 0.0001), loss='categorical_crossentropy', metrics=['accuracy'])"
      ],
      "execution_count": 11,
      "outputs": []
    },
    {
      "cell_type": "code",
      "metadata": {
        "colab": {
          "base_uri": "https://localhost:8080/"
        },
        "id": "VPhMTXVbdzcn",
        "outputId": "413dfb47-41f3-4083-9332-316fc2155219"
      },
      "source": [
        "history= model.fit(X_train, y_train, \r\n",
        "                   #steps_per_epoch= 250, \r\n",
        "                   validation_data= (X_test, y_test), \r\n",
        "                   verbose = 1, \r\n",
        "                   epochs = 20, \r\n",
        "                   batch_size = 64)"
      ],
      "execution_count": 12,
      "outputs": [
        {
          "output_type": "stream",
          "text": [
            "Epoch 1/20\n",
            "103/103 [==============================] - 45s 98ms/step - loss: 1.6849 - accuracy: 0.4197 - val_loss: 0.7072 - val_accuracy: 0.8087\n",
            "Epoch 2/20\n",
            "103/103 [==============================] - 7s 72ms/step - loss: 0.3414 - accuracy: 0.8963 - val_loss: 0.2244 - val_accuracy: 0.9369\n",
            "Epoch 3/20\n",
            "103/103 [==============================] - 7s 72ms/step - loss: 0.1057 - accuracy: 0.9715 - val_loss: 0.1228 - val_accuracy: 0.9593\n",
            "Epoch 4/20\n",
            "103/103 [==============================] - 7s 72ms/step - loss: 0.0372 - accuracy: 0.9906 - val_loss: 0.0900 - val_accuracy: 0.9715\n",
            "Epoch 5/20\n",
            "103/103 [==============================] - 7s 72ms/step - loss: 0.0176 - accuracy: 0.9964 - val_loss: 0.0988 - val_accuracy: 0.9739\n",
            "Epoch 6/20\n",
            "103/103 [==============================] - 7s 72ms/step - loss: 0.0183 - accuracy: 0.9966 - val_loss: 0.1160 - val_accuracy: 0.9709\n",
            "Epoch 7/20\n",
            "103/103 [==============================] - 7s 72ms/step - loss: 0.0157 - accuracy: 0.9947 - val_loss: 0.1382 - val_accuracy: 0.9569\n",
            "Epoch 8/20\n",
            "103/103 [==============================] - 7s 72ms/step - loss: 0.0205 - accuracy: 0.9949 - val_loss: 0.1305 - val_accuracy: 0.9660\n",
            "Epoch 9/20\n",
            "103/103 [==============================] - 7s 72ms/step - loss: 0.0322 - accuracy: 0.9888 - val_loss: 0.1126 - val_accuracy: 0.9636\n",
            "Epoch 10/20\n",
            "103/103 [==============================] - 7s 72ms/step - loss: 0.0231 - accuracy: 0.9939 - val_loss: 0.1296 - val_accuracy: 0.9648\n",
            "Epoch 11/20\n",
            "103/103 [==============================] - 7s 72ms/step - loss: 0.0119 - accuracy: 0.9954 - val_loss: 0.1437 - val_accuracy: 0.9660\n",
            "Epoch 12/20\n",
            "103/103 [==============================] - 7s 72ms/step - loss: 0.0096 - accuracy: 0.9971 - val_loss: 0.1479 - val_accuracy: 0.9672\n",
            "Epoch 13/20\n",
            "103/103 [==============================] - 7s 73ms/step - loss: 0.0104 - accuracy: 0.9970 - val_loss: 0.1313 - val_accuracy: 0.9636\n",
            "Epoch 14/20\n",
            "103/103 [==============================] - 7s 72ms/step - loss: 0.0144 - accuracy: 0.9954 - val_loss: 0.1413 - val_accuracy: 0.9642\n",
            "Epoch 15/20\n",
            "103/103 [==============================] - 7s 72ms/step - loss: 0.0195 - accuracy: 0.9945 - val_loss: 0.1211 - val_accuracy: 0.9715\n",
            "Epoch 16/20\n",
            "103/103 [==============================] - 7s 72ms/step - loss: 0.0039 - accuracy: 0.9993 - val_loss: 0.1069 - val_accuracy: 0.9763\n",
            "Epoch 17/20\n",
            "103/103 [==============================] - 7s 72ms/step - loss: 0.0074 - accuracy: 0.9973 - val_loss: 0.1303 - val_accuracy: 0.9690\n",
            "Epoch 18/20\n",
            "103/103 [==============================] - 7s 72ms/step - loss: 0.0115 - accuracy: 0.9970 - val_loss: 0.1316 - val_accuracy: 0.9666\n",
            "Epoch 19/20\n",
            "103/103 [==============================] - 7s 73ms/step - loss: 0.0059 - accuracy: 0.9992 - val_loss: 0.1394 - val_accuracy: 0.9660\n",
            "Epoch 20/20\n",
            "103/103 [==============================] - 7s 72ms/step - loss: 0.0171 - accuracy: 0.9961 - val_loss: 0.1321 - val_accuracy: 0.9648\n"
          ],
          "name": "stdout"
        }
      ]
    },
    {
      "cell_type": "code",
      "metadata": {
        "id": "jV234VcMo6Xj"
      },
      "source": [
        "model.save('/content/drive/MyDrive/Colab Notebooks/digit_model.h5')"
      ],
      "execution_count": 105,
      "outputs": []
    },
    {
      "cell_type": "code",
      "metadata": {
        "colab": {
          "base_uri": "https://localhost:8080/",
          "height": 385
        },
        "id": "MlJEk3zVesK3",
        "outputId": "11d21ebc-9aba-425d-8348-db9fcd6a8d94"
      },
      "source": [
        "#matplotlib inline\r\n",
        "\r\n",
        "import matplotlib.image  as mpimg\r\n",
        "import matplotlib.pyplot as plt\r\n",
        "\r\n",
        "#-----------------------------------------------------------\r\n",
        "# Retrieve a list of list results on training and test data\r\n",
        "# sets for each training epoch\r\n",
        "#-----------------------------------------------------------\r\n",
        "# plot loss and accuracy\r\n",
        "plt.subplot(211)\r\n",
        "plt.title(\"Accuracy\")\r\n",
        "plt.plot(history.history[\"accuracy\"], color=\"g\", label=\"Train\")\r\n",
        "plt.plot(history.history[\"val_accuracy\"], color=\"b\", label=\"Validation\")\r\n",
        "plt.legend(loc=\"best\")\r\n",
        "\r\n",
        "plt.subplot(212)\r\n",
        "plt.title(\"Loss\")\r\n",
        "plt.plot(history.history[\"loss\"], color=\"g\", label=\"Train\")\r\n",
        "plt.plot(history.history[\"val_loss\"], color=\"b\", label=\"Validation\")\r\n",
        "plt.legend(loc=\"best\")\r\n",
        "\r\n",
        "plt.tight_layout()\r\n",
        "plt.show()\r\n",
        "\r\n",
        "print()\r\n",
        "train_accuracy = history.history[\"accuracy\"]\r\n",
        "valid_accuracy = history.history[\"val_accuracy\"]\r\n",
        "\r\n",
        "train_err = history.history[\"loss\"]\r\n",
        "valid_err = history.history[\"val_loss\"]\r\n",
        "\r\n",
        "\r\n",
        "print(\"train_accuracy : \", train_accuracy)\r\n",
        "print(\"valid_accuracy : \", valid_accuracy)\r\n",
        "print(\"train_err : \", train_err)"
      ],
      "execution_count": 13,
      "outputs": [
        {
          "output_type": "display_data",
          "data": {
            "image/png": "[encoded data removed]",
            "text/plain": [
              "<Figure size 432x288 with 2 Axes>"
            ]
          },
          "metadata": {
            "tags": [],
            "needs_background": "light"
          }
        },
        {
          "output_type": "stream",
          "text": [
            "\n",
            "train_accuracy :  [0.5865735411643982, 0.9099331498146057, 0.9725090861320496, 0.9913426637649536, 0.9954435229301453, 0.9945322275161743, 0.9949878454208374, 0.9928615093231201, 0.9904313683509827, 0.9939246773719788, 0.9948359727859497, 0.9954435229301453, 0.9972661137580872, 0.9954435229301453, 0.9958991408348083, 0.9981774091720581, 0.996051013469696, 0.9971142411231995, 0.9980255365371704, 0.9958991408348083]\n",
            "valid_accuracy :  [0.8087431788444519, 0.936854898929596, 0.9593199491500854, 0.9714632630348206, 0.9738919138908386, 0.9708561301231384, 0.9568912982940674, 0.9659987688064575, 0.9635701179504395, 0.9647844433784485, 0.9659987688064575, 0.9672130942344666, 0.9635701179504395, 0.9641773104667664, 0.9714632630348206, 0.9763205647468567, 0.9690346121788025, 0.9666059613227844, 0.9659987688064575, 0.9647844433784485]\n",
            "train_err :  [1.2124295234680176, 0.28257355093955994, 0.09337009489536285, 0.034550875425338745, 0.018984710797667503, 0.022661447525024414, 0.015845557674765587, 0.02597867324948311, 0.028744807466864586, 0.019414078444242477, 0.013805516064167023, 0.014474773779511452, 0.009699631482362747, 0.013854965567588806, 0.016097934916615486, 0.007546416949480772, 0.01046691369265318, 0.00956712570041418, 0.007680945098400116, 0.01394711621105671]\n"
          ],
          "name": "stdout"
        }
      ]
    },
    {
      "cell_type": "code",
      "metadata": {
        "colab": {
          "base_uri": "https://localhost:8080/",
          "height": 285
        },
        "id": "NzrGdX5LgAW1",
        "outputId": "ba230282-a455-4fb5-a62f-caa729f717ee"
      },
      "source": [
        "n = 119\r\n",
        "img = X_test[n]\r\n",
        "plt.imshow(img)"
      ],
      "execution_count": 103,
      "outputs": [
        {
          "output_type": "execute_result",
          "data": {
            "text/plain": [
              "<matplotlib.image.AxesImage at 0x7f32b4a804d0>"
            ]
          },
          "metadata": {
            "tags": []
          },
          "execution_count": 103
        },
        {
          "output_type": "display_data",
          "data": {
            "image/png": "[encoded data removed]",
            "text/plain": [
              "<Figure size 432x288 with 1 Axes>"
            ]
          },
          "metadata": {
            "tags": [],
            "needs_background": "light"
          }
        }
      ]
    },
    {
      "cell_type": "code",
      "metadata": {
        "colab": {
          "base_uri": "https://localhost:8080/"
        },
        "id": "W9tqQ355gGR9",
        "outputId": "dc088423-2303-449c-c516-d1ffece510a4"
      },
      "source": [
        "input_img = np.expand_dims(img, axis = 0)\r\n",
        "print(\"The prediction for this image is: \", model.predict(input_img))\r\n",
        "print(\"The actual label for this image is: \", y_test[n])"
      ],
      "execution_count": 104,
      "outputs": [
        {
          "output_type": "stream",
          "text": [
            "The prediction for this image is:  [[5.8394658e-09 8.8047564e-06 9.9998784e-01 6.1971264e-07 2.4961809e-11\n",
            "  9.7999864e-10 1.7826086e-09 2.6286559e-06 1.7730343e-07 1.3555091e-12]]\n",
            "The actual label for this image is:  [0. 0. 1. 0. 0. 0. 0. 0. 0. 0.]\n"
          ],
          "name": "stdout"
        }
      ]
    },
    {
      "cell_type": "code",
      "metadata": {
        "colab": {
          "base_uri": "https://localhost:8080/"
        },
        "id": "PafPH0sugM9V",
        "outputId": "6ced7fcc-5565-4ac7-9547-0b306416e6ed"
      },
      "source": [
        "_, acc = model.evaluate(X_test, y_test)\r\n",
        "print('Accuracy = ', (acc * 100.0), '100%')"
      ],
      "execution_count": 16,
      "outputs": [
        {
          "output_type": "stream",
          "text": [
            "52/52 [==============================] - 3s 40ms/step - loss: 0.1321 - accuracy: 0.9648\n",
            "Accuracy =  96.47844433784485 100%\n"
          ],
          "name": "stdout"
        }
      ]
    }
  ]
}